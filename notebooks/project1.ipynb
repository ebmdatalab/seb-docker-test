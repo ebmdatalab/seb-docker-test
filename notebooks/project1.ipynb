{
 "cells": [
  {
   "cell_type": "code",
   "execution_count": 1,
   "metadata": {},
   "outputs": [],
   "source": [
    "import requests"
   ]
  },
  {
   "cell_type": "code",
   "execution_count": 2,
   "metadata": {},
   "outputs": [],
   "source": [
    "import pandas_gbq"
   ]
  },
  {
   "cell_type": "code",
   "execution_count": 3,
   "metadata": {},
   "outputs": [],
   "source": [
    "import slack"
   ]
  },
  {
   "cell_type": "code",
   "execution_count": 4,
   "metadata": {},
   "outputs": [
    {
     "data": {
      "text/plain": [
       "['NullHandler',\n",
       " 'RTMClient',\n",
       " 'WebClient',\n",
       " '__builtins__',\n",
       " '__cached__',\n",
       " '__doc__',\n",
       " '__file__',\n",
       " '__loader__',\n",
       " '__name__',\n",
       " '__package__',\n",
       " '__path__',\n",
       " '__spec__',\n",
       " 'errors',\n",
       " 'logging',\n",
       " 'rtm',\n",
       " 'version',\n",
       " 'web']"
      ]
     },
     "execution_count": 4,
     "metadata": {},
     "output_type": "execute_result"
    }
   ],
   "source": [
    "dir(slack)"
   ]
  },
  {
   "cell_type": "code",
   "execution_count": 5,
   "metadata": {},
   "outputs": [
    {
     "data": {
      "text/plain": [
       "['Context',\n",
       " '__builtins__',\n",
       " '__cached__',\n",
       " '__doc__',\n",
       " '__file__',\n",
       " '__git_revision__',\n",
       " '__loader__',\n",
       " '__name__',\n",
       " '__package__',\n",
       " '__path__',\n",
       " '__spec__',\n",
       " '__version__',\n",
       " '_version',\n",
       " 'context',\n",
       " 'exceptions',\n",
       " 'gbq',\n",
       " 'read_gbq',\n",
       " 'schema',\n",
       " 'to_gbq']"
      ]
     },
     "execution_count": 5,
     "metadata": {},
     "output_type": "execute_result"
    }
   ],
   "source": [
    "dir(pandas_gbq)"
   ]
  },
  {
   "cell_type": "code",
   "execution_count": 6,
   "metadata": {},
   "outputs": [
    {
     "data": {
      "text/plain": [
       "'0.11.0'"
      ]
     },
     "execution_count": 6,
     "metadata": {},
     "output_type": "execute_result"
    }
   ],
   "source": [
    "pandas_gbq.__version__"
   ]
  },
  {
   "cell_type": "code",
   "execution_count": 7,
   "metadata": {},
   "outputs": [],
   "source": [
    "import flask"
   ]
  },
  {
   "cell_type": "code",
   "execution_count": 8,
   "metadata": {},
   "outputs": [
    {
     "data": {
      "text/plain": [
       "['Blueprint',\n",
       " 'Config',\n",
       " 'Flask',\n",
       " 'Markup',\n",
       " 'Request',\n",
       " 'Response',\n",
       " 'Session',\n",
       " '__builtins__',\n",
       " '__cached__',\n",
       " '__doc__',\n",
       " '__file__',\n",
       " '__loader__',\n",
       " '__name__',\n",
       " '__package__',\n",
       " '__path__',\n",
       " '__spec__',\n",
       " '__version__',\n",
       " '_app_ctx_stack',\n",
       " '_compat',\n",
       " '_request_ctx_stack',\n",
       " 'abort',\n",
       " 'after_this_request',\n",
       " 'app',\n",
       " 'appcontext_popped',\n",
       " 'appcontext_pushed',\n",
       " 'appcontext_tearing_down',\n",
       " 'before_render_template',\n",
       " 'blueprints',\n",
       " 'cli',\n",
       " 'config',\n",
       " 'copy_current_request_context',\n",
       " 'ctx',\n",
       " 'current_app',\n",
       " 'escape',\n",
       " 'flash',\n",
       " 'g',\n",
       " 'get_flashed_messages',\n",
       " 'get_template_attribute',\n",
       " 'globals',\n",
       " 'got_request_exception',\n",
       " 'has_app_context',\n",
       " 'has_request_context',\n",
       " 'helpers',\n",
       " 'json',\n",
       " 'json_available',\n",
       " 'jsonify',\n",
       " 'logging',\n",
       " 'make_response',\n",
       " 'message_flashed',\n",
       " 'redirect',\n",
       " 'render_template',\n",
       " 'render_template_string',\n",
       " 'request',\n",
       " 'request_finished',\n",
       " 'request_started',\n",
       " 'request_tearing_down',\n",
       " 'safe_join',\n",
       " 'send_file',\n",
       " 'send_from_directory',\n",
       " 'session',\n",
       " 'sessions',\n",
       " 'signals',\n",
       " 'signals_available',\n",
       " 'stream_with_context',\n",
       " 'template_rendered',\n",
       " 'templating',\n",
       " 'url_for',\n",
       " 'wrappers']"
      ]
     },
     "execution_count": 8,
     "metadata": {},
     "output_type": "execute_result"
    }
   ],
   "source": [
    "dir(flask)"
   ]
  },
  {
   "cell_type": "code",
   "execution_count": 9,
   "metadata": {},
   "outputs": [],
   "source": [
    "import pandas as pd"
   ]
  },
  {
   "cell_type": "code",
   "execution_count": 10,
   "metadata": {},
   "outputs": [
    {
     "name": "stdout",
     "output_type": "stream",
     "text": [
      "\n",
      "Please wait a moment while I gather a list of all available modules...\n",
      "\n"
     ]
    },
    {
     "name": "stderr",
     "output_type": "stream",
     "text": [
      "/opt/conda/lib/python3.6/site-packages/IPython/kernel/__init__.py:13: ShimWarning: The `IPython.kernel` package has been deprecated since IPython 4.0.You should import from ipykernel or jupyter_client instead.\n",
      "  \"You should import from ipykernel or jupyter_client instead.\", ShimWarning)\n"
     ]
    },
    {
     "name": "stdout",
     "output_type": "stream",
     "text": [
      "IPython             bdb                 jinja2              runpy\n",
      "OpenSSL             binascii            json                sched\n",
      "__future__          binhex              jsonschema          secrets\n",
      "_ast                bisect              jupyter             select\n",
      "_asyncio            bleach              jupyter_client      selectors\n",
      "_bisect             builtins            jupyter_core        send2trash\n",
      "_blake2             bz2                 jupyterhub          service_identity\n",
      "_bootlocale         cProfile            jupyterlab          setuptools\n",
      "_bz2                cachetools          jupyterlab_launcher shelve\n",
      "_cffi_backend       calendar            keyword             shlex\n",
      "_codecs             certifi             lib2to3             shutil\n",
      "_codecs_cn          cffi                linecache           signal\n",
      "_codecs_hk          cgi                 locale              simplegeneric\n",
      "_codecs_iso2022     cgitb               logging             site\n",
      "_codecs_jp          chardet             lzma                six\n",
      "_codecs_kr          chunk               macpath             slack\n",
      "_codecs_tw          click               macurl2path         smtpd\n",
      "_collections        cmath               mailbox             smtplib\n",
      "_collections_abc    cmd                 mailcap             sndhdr\n",
      "_compat_pickle      code                mako                socket\n",
      "_compression        codecs              markupsafe          socketserver\n",
      "_crypt              codeop              marshal             socks\n",
      "_csv                collections         math                sockshandler\n",
      "_ctypes             colorsys            mimetypes           spwd\n",
      "_ctypes_test        compileall          mistune             sqlalchemy\n",
      "_curses             concurrent          mmap                sqlite3\n",
      "_curses_panel       conda               modulefinder        sre_compile\n",
      "_datetime           conda_env           multidict           sre_constants\n",
      "_decimal            configparser        multiprocessing     sre_parse\n",
      "_dummy_thread       constantly          nbconvert           ssl\n",
      "_elementtree        contextlib          nbformat            stat\n",
      "_functools          copy                netrc               statistics\n",
      "_hashlib            copyreg             nis                 storemagic\n",
      "_heapq              crypt               nntplib             string\n",
      "_imp                cryptography        notebook            stringprep\n",
      "_io                 csv                 ntpath              struct\n",
      "_json               ctypes              nturl2path          subprocess\n",
      "_locale             curl                numbers             sunau\n",
      "_lsprof             curses              numpy               symbol\n",
      "_lzma               cythonmagic         oauth2              sympyprinting\n",
      "_markupbase         datetime            oauthlib            symtable\n",
      "_md5                dateutil            opcode              sys\n",
      "_multibytecodec     dbm                 operator            sysconfig\n",
      "_multiprocessing    decimal             optparse            syslog\n",
      "_opcode             decorator           os                  tabnanny\n",
      "_operator           difflib             ossaudiodev         tarfile\n",
      "_osx_support        dis                 pamela              telnetlib\n",
      "_pickle             distutils           pandas              tempfile\n",
      "_posixsubprocess    doctest             pandas_gbq          terminado\n",
      "_pydecimal          dummy_threading     pandocfilters       termios\n",
      "_pyio               easy_install        parser              test_pycosat\n",
      "_random             editor              parso               testpath\n",
      "_sha1               email               pathlib             tests\n",
      "_sha256             encodings           pdb                 textwrap\n",
      "_sha3               ensurepip           pexpect             this\n",
      "_sha512             entrypoints         pickle              threading\n",
      "_signal             enum                pickleshare         time\n",
      "_sitebuiltins       errno               pickletools         timeit\n",
      "_socket             faulthandler        pip                 tkinter\n",
      "_sqlite3            fcntl               pipes               token\n",
      "_sre                filecmp             pkg_resources       tokenize\n",
      "_ssl                fileinput           pkgutil             tornado\n",
      "_stat               flask               platform            trace\n",
      "_string             fnmatch             plistlib            traceback\n",
      "_strptime           formatter           poplib              tracemalloc\n",
      "_struct             fractions           posix               traitlets\n",
      "_symtable           ftplib              posixpath           tty\n",
      "_sysconfigdata_m_linux_x86_64-linux-gnu functools           pprint              turtle\n",
      "_testbuffer         gc                  profile             turtledemo\n",
      "_testcapi           genericpath         prometheus_client   twisted\n",
      "_testimportmultiple getopt              prompt_toolkit      types\n",
      "_testmultiphase     getpass             pstats              typing\n",
      "_thread             gettext             pty                 typing_extensions\n",
      "_threading_local    glob                ptyprocess          unicodedata\n",
      "_tkinter            google_auth_oauthlib pwd                 unittest\n",
      "_tracemalloc        grp                 py_compile          urllib\n",
      "_warnings           gzip                pyasn1              urllib3\n",
      "_weakref            hashlib             pyasn1_modules      uu\n",
      "_weakrefset         heapq               pyclbr              uuid\n",
      "abc                 hmac                pycosat             venv\n",
      "aifc                html                pycparser           warnings\n",
      "aiohttp             html5lib            pycurl              wave\n",
      "alembic             http                pydata_google_auth  wcwidth\n",
      "antigravity         hyperlink           pydoc               weakref\n",
      "appdirs             idlelib             pydoc_data          webbrowser\n",
      "argparse            idna                pyexpat             webencodings\n",
      "array               idna_ssl            pygments            werkzeug\n",
      "asn1crypto          imaplib             pytz                wheel\n",
      "ast                 imghdr              queue               wsgiref\n",
      "async_generator     imp                 quopri              xdrlib\n",
      "async_timeout       importlib           random              xml\n",
      "asynchat            incremental         re                  xmlrpc\n",
      "asyncio             inspect             readline            xxlimited\n",
      "asyncore            io                  reprlib             xxsubtype\n",
      "atexit              ipaddress           requests            yarl\n",
      "attr                ipykernel           requests_oauthlib   zipapp\n",
      "audioop             ipykernel_launcher  resource            zipfile\n",
      "automat             ipython_genutils    rlcompleter         zipimport\n",
      "autoreload          itertools           rmagic              zlib\n",
      "backcall            itsdangerous        rsa                 zmq\n",
      "base64              jedi                ruamel_yaml         \n",
      "\n",
      "Enter any module name to get more help.  Or, type \"modules spam\" to search\n",
      "for modules whose name or summary contain the string \"spam\".\n",
      "\n"
     ]
    },
    {
     "name": "stderr",
     "output_type": "stream",
     "text": [
      "/opt/conda/lib/python3.6/pkgutil.py:107: VisibleDeprecationWarning: zmq.eventloop.minitornado is deprecated in pyzmq 14.0 and will be removed.\n",
      "    Install tornado itself to use zmq with the tornado IOLoop.\n",
      "    \n",
      "  yield from walk_packages(path, info.name+'.', onerror)\n"
     ]
    }
   ],
   "source": []
  },
  {
   "cell_type": "code",
   "execution_count": null,
   "metadata": {},
   "outputs": [],
   "source": []
  }
 ],
 "metadata": {
  "kernelspec": {
   "display_name": "Python 3",
   "language": "python",
   "name": "python3"
  },
  "language_info": {
   "codemirror_mode": {
    "name": "ipython",
    "version": 3
   },
   "file_extension": ".py",
   "mimetype": "text/x-python",
   "name": "python",
   "nbconvert_exporter": "python",
   "pygments_lexer": "ipython3",
   "version": "3.6.5"
  }
 },
 "nbformat": 4,
 "nbformat_minor": 2
}
